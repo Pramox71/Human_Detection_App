{
 "cells": [
  {
   "cell_type": "code",
   "execution_count": 1,
   "metadata": {},
   "outputs": [],
   "source": [
    "import logging\n",
    "import warnings\n",
    "import cv2\n",
    "import torch\n",
    "from onnx2tflite import onnx_converter\n",
    "import os"
   ]
  },
  {
   "cell_type": "code",
   "execution_count": 2,
   "metadata": {},
   "outputs": [],
   "source": [
    "warnings.filterwarnings(\"ignore\")\n",
    "logging.getLogger().setLevel(logging.CRITICAL)"
   ]
  },
  {
   "cell_type": "code",
   "execution_count": 3,
   "metadata": {},
   "outputs": [
    {
     "name": "stderr",
     "output_type": "stream",
     "text": [
      "Using cache found in C:\\Users\\dhima/.cache\\torch\\hub\\ultralytics_yolov5_master\n",
      "YOLOv5  2024-10-15 Python-3.10.7 torch-2.5.0+cpu CPU\n",
      "\n",
      "Fusing layers... \n",
      "YOLOv5n summary: 213 layers, 1867405 parameters, 0 gradients, 4.5 GFLOPs\n",
      "Adding AutoShape... \n"
     ]
    }
   ],
   "source": [
    "model = torch.hub.load('ultralytics/yolov5', 'custom', path='yolov5n.pt')\n",
    "model.classes = [0]  # COCO class index for 'person'\n",
    "model.conf = 0.85\n",
    "model.iou = 0.66"
   ]
  },
  {
   "cell_type": "code",
   "execution_count": 4,
   "metadata": {},
   "outputs": [],
   "source": [
    "def detection(cap):\n",
    "    detected_people = {}  # Dictionary to keep track of detected person IDs and their bounding boxes\n",
    "    count = 0  # Counter for saving captured images\n",
    "    frame_threshold = 30  # Number of frames before considering a person as \"left the frame\"\n",
    "\n",
    "    while cap.isOpened():\n",
    "        ret, frame = cap.read()\n",
    "        if not ret:\n",
    "            break\n",
    "\n",
    "        # Perform detection\n",
    "        results = model(frame)\n",
    "\n",
    "        # Iterate through detected objects\n",
    "        for person in results.xyxy[0]:  # Assuming results.xyxy returns detection results\n",
    "            class_id = int(person[5])  # Class ID (assuming the 6th element is the class ID)\n",
    "            if class_id == 0:  # Class ID for 'person'\n",
    "                x1, y1, x2, y2 = map(int, person[:4])  # Get bounding box\n",
    "                person_id = None\n",
    "\n",
    "                # Check if the object has been tracked before\n",
    "                for obj_id, (box, frames_left) in list(detected_people.items()):\n",
    "                    if abs(x1 - box[0]) < 50 and abs(y1 - box[1]) < 50:  # Simple distance threshold\n",
    "                        person_id = obj_id\n",
    "                        break\n",
    "\n",
    "                # If not tracked, assign new ID\n",
    "                if person_id is None:\n",
    "                    person_id = count\n",
    "                    detected_people[person_id] = [(x1, y1, x2, y2), frame_threshold]  # Add new person\n",
    "                    count += 1\n",
    "                    # Save the current frame with new ID\n",
    "                    capture_filename = f\"Hasil/captured_person_{person_id}.png\"\n",
    "                    cv2.imwrite(capture_filename, frame)\n",
    "                    print(f\"Captured person with ID: {person_id} and saved as {capture_filename}\")\n",
    "                else:\n",
    "                    # Update bounding box and reset frame counter\n",
    "                    detected_people[person_id][0] = (x1, y1, x2, y2)\n",
    "                    detected_people[person_id][1] = frame_threshold\n",
    "\n",
    "        # Decrease frame count for all tracked people\n",
    "        for obj_id in list(detected_people):\n",
    "            detected_people[obj_id][1] -= 1\n",
    "            if detected_people[obj_id][1] <= 0:  # Remove people who have left the frame\n",
    "                del detected_people[obj_id]\n",
    "\n",
    "        # Render bounding boxes with person IDs\n",
    "        for obj_id, (box, _) in detected_people.items():\n",
    "            cv2.rectangle(frame, (box[0], box[1]), (box[2], box[3]), (255, 0, 0), 2)\n",
    "            cv2.putText(frame, f'ID: {obj_id}', (box[0], box[1] - 10), cv2.FONT_HERSHEY_SIMPLEX, 0.5, (255, 0, 0), 2)\n",
    "\n",
    "        # Display the frame with detections\n",
    "        cv2.imshow('YOLOv5 Person Detection', frame)\n",
    "\n",
    "        if cv2.waitKey(1) & 0xFF == ord('q'):\n",
    "            break"
   ]
  },
  {
   "cell_type": "code",
   "execution_count": 5,
   "metadata": {},
   "outputs": [],
   "source": [
    "def main():\n",
    "        input_path = input(\"Masukkan path gambar yang ingin dihapus latar belakangnya: \")\n",
    "        if not os.path.isfile(input_path):\n",
    "                print(\"File tidak ditemukan. Silakan masukkan path yang valid.\")\n",
    "                return\n",
    "        cap = cv2.VideoCapture(input_path)\n",
    "        detection(cap)\n",
    "        cap.release()\n",
    "        cv2.destroyAllWindows()"
   ]
  },
  {
   "cell_type": "code",
   "execution_count": 6,
   "metadata": {},
   "outputs": [
    {
     "name": "stdout",
     "output_type": "stream",
     "text": [
      "File tidak ditemukan. Silakan masukkan path yang valid.\n"
     ]
    }
   ],
   "source": [
    "main()"
   ]
  },
  {
   "cell_type": "code",
   "execution_count": 7,
   "metadata": {},
   "outputs": [
    {
     "name": "stdout",
     "output_type": "stream",
     "text": [
      "Model telah dikonversi ke format ONNX\n"
     ]
    }
   ],
   "source": [
    "# Simpan model YOLOv5 ke ONNX\n",
    "dummy_input = torch.randn(1, 3, 640, 640)  # Input ukuran acak sesuai dengan model YOLO\n",
    "torch.onnx.export(model, dummy_input, \"Human_detection.onnx\", opset_version=11)\n",
    "print(\"Model telah dikonversi ke format ONNX\")"
   ]
  },
  {
   "cell_type": "code",
   "execution_count": 10,
   "metadata": {},
   "outputs": [
    {
     "name": "stdout",
     "output_type": "stream",
     "text": [
      "Checking 0/1...\n"
     ]
    },
    {
     "name": "stderr",
     "output_type": "stream",
     "text": [
      "WARNING:absl:Found untraced functions such as _jit_compiled_convolution_op, _jit_compiled_convolution_op, _jit_compiled_convolution_op, _jit_compiled_convolution_op, _jit_compiled_convolution_op while saving (showing 5 of 60). These functions will not be directly callable after loading.\n"
     ]
    },
    {
     "name": "stdout",
     "output_type": "stream",
     "text": [
      "INFO:tensorflow:Assets written to: C:\\Users\\dhima\\AppData\\Local\\Temp\\tmpua7sxktl\\assets\n"
     ]
    },
    {
     "name": "stderr",
     "output_type": "stream",
     "text": [
      "INFO:tensorflow:Assets written to: C:\\Users\\dhima\\AppData\\Local\\Temp\\tmpua7sxktl\\assets\n"
     ]
    }
   ],
   "source": [
    "res = onnx_converter(\n",
    "        onnx_model_path = \"./Human_detection.onnx\",\n",
    "        need_simplify = True,\n",
    "        output_path = \"\",\n",
    "        target_formats = ['tflite'],\n",
    "    )"
   ]
  },
  {
   "cell_type": "code",
   "execution_count": 33,
   "metadata": {},
   "outputs": [
    {
     "ename": "SyntaxError",
     "evalue": "invalid syntax. Perhaps you forgot a comma? (4288909535.py, line 4)",
     "output_type": "error",
     "traceback": [
      "\u001b[1;36m  Cell \u001b[1;32mIn[33], line 4\u001b[1;36m\u001b[0m\n\u001b[1;33m    onnx_model_path = \"./target-model.onnx\"\u001b[0m\n\u001b[1;37m                      ^\u001b[0m\n\u001b[1;31mSyntaxError\u001b[0m\u001b[1;31m:\u001b[0m invalid syntax. Perhaps you forgot a comma?\n"
     ]
    }
   ],
   "source": [
    "# import onnx\n",
    "# from onnx_tf.backend import prepare\n",
    "\n",
    "# # Muat model ONNX\n",
    "# onnx_model = onnx.load(\"Human_detection.onnx\")\n",
    "\n",
    "# # Konversi ke TensorFlow\n",
    "# tf_rep = prepare(onnx_model)\n",
    "# tf_rep.export_graph(\"model_yolov5.pb\")\n",
    "# print(\"Model telah dikonversi ke format TensorFlow\")"
   ]
  },
  {
   "cell_type": "code",
   "execution_count": null,
   "metadata": {},
   "outputs": [],
   "source": []
  }
 ],
 "metadata": {
  "kernelspec": {
   "display_name": "model_venv",
   "language": "python",
   "name": "python3"
  },
  "language_info": {
   "codemirror_mode": {
    "name": "ipython",
    "version": 3
   },
   "file_extension": ".py",
   "mimetype": "text/x-python",
   "name": "python",
   "nbconvert_exporter": "python",
   "pygments_lexer": "ipython3",
   "version": "3.10.7"
  }
 },
 "nbformat": 4,
 "nbformat_minor": 2
}
