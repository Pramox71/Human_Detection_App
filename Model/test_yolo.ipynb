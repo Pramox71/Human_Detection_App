{
 "cells": [
  {
   "cell_type": "code",
   "execution_count": 1,
   "metadata": {},
   "outputs": [],
   "source": [
    "import torch\n",
    "import cv2\n",
    "import os\n",
    "import warnings\n",
    "import logging"
   ]
  },
  {
   "cell_type": "code",
   "execution_count": 2,
   "metadata": {},
   "outputs": [],
   "source": [
    "warnings.filterwarnings(\"ignore\")\n",
    "logging.getLogger().setLevel(logging.CRITICAL)"
   ]
  },
  {
   "cell_type": "code",
   "execution_count": 3,
   "metadata": {},
   "outputs": [
    {
     "name": "stderr",
     "output_type": "stream",
     "text": [
      "Using cache found in C:\\Users\\dhima/.cache\\torch\\hub\\ultralytics_yolov5_master\n",
      "YOLOv5  2024-10-15 Python-3.10.7 torch-2.4.1+cpu CPU\n",
      "\n",
      "Fusing layers... \n",
      "YOLOv5n summary: 213 layers, 1867405 parameters, 0 gradients, 4.5 GFLOPs\n",
      "Adding AutoShape... \n"
     ]
    }
   ],
   "source": [
    "model = torch.hub.load('ultralytics/yolov5', 'custom', path='yolov5n.pt')\n",
    "model.classes = [0]  # COCO class index for 'person'\n",
    "model.conf = 0.85\n",
    "model.iou = 0.66"
   ]
  },
  {
   "cell_type": "code",
   "execution_count": 4,
   "metadata": {},
   "outputs": [],
   "source": [
    "def detection(cap):\n",
    "    detected_people = {}  # Dictionary to keep track of detected person IDs and their bounding boxes\n",
    "    count = 0  # Counter for saving captured images\n",
    "    frame_threshold = 30  # Number of frames before considering a person as \"left the frame\"\n",
    "\n",
    "    while cap.isOpened():\n",
    "        ret, frame = cap.read()\n",
    "        if not ret:\n",
    "            break\n",
    "\n",
    "        # Perform detection\n",
    "        results = model(frame)\n",
    "\n",
    "        # Iterate through detected objects\n",
    "        for person in results.xyxy[0]:  # Assuming results.xyxy returns detection results\n",
    "            class_id = int(person[5])  # Class ID (assuming the 6th element is the class ID)\n",
    "            if class_id == 0:  # Class ID for 'person'\n",
    "                x1, y1, x2, y2 = map(int, person[:4])  # Get bounding box\n",
    "                person_id = None\n",
    "\n",
    "                # Check if the object has been tracked before\n",
    "                for obj_id, (box, frames_left) in list(detected_people.items()):\n",
    "                    if abs(x1 - box[0]) < 50 and abs(y1 - box[1]) < 50:  # Simple distance threshold\n",
    "                        person_id = obj_id\n",
    "                        break\n",
    "\n",
    "                # If not tracked, assign new ID\n",
    "                if person_id is None:\n",
    "                    person_id = count\n",
    "                    detected_people[person_id] = [(x1, y1, x2, y2), frame_threshold]  # Add new person\n",
    "                    count += 1\n",
    "                    # Save the current frame with new ID\n",
    "                    capture_filename = f\"Hasil/captured_person_{person_id}.png\"\n",
    "                    cv2.imwrite(capture_filename, frame)\n",
    "                    print(f\"Captured person with ID: {person_id} and saved as {capture_filename}\")\n",
    "                else:\n",
    "                    # Update bounding box and reset frame counter\n",
    "                    detected_people[person_id][0] = (x1, y1, x2, y2)\n",
    "                    detected_people[person_id][1] = frame_threshold\n",
    "\n",
    "        # Decrease frame count for all tracked people\n",
    "        for obj_id in list(detected_people):\n",
    "            detected_people[obj_id][1] -= 1\n",
    "            if detected_people[obj_id][1] <= 0:  # Remove people who have left the frame\n",
    "                del detected_people[obj_id]\n",
    "\n",
    "        # Render bounding boxes with person IDs\n",
    "        for obj_id, (box, _) in detected_people.items():\n",
    "            cv2.rectangle(frame, (box[0], box[1]), (box[2], box[3]), (255, 0, 0), 2)\n",
    "            cv2.putText(frame, f'ID: {obj_id}', (box[0], box[1] - 10), cv2.FONT_HERSHEY_SIMPLEX, 0.5, (255, 0, 0), 2)\n",
    "\n",
    "        # Display the frame with detections\n",
    "        cv2.imshow('YOLOv5 Person Detection', frame)\n",
    "\n",
    "        if cv2.waitKey(1) & 0xFF == ord('q'):\n",
    "            break"
   ]
  },
  {
   "cell_type": "code",
   "execution_count": 5,
   "metadata": {},
   "outputs": [],
   "source": [
    "def main():\n",
    "        input_path = input(\"Masukkan path gambar yang ingin dihapus latar belakangnya: \")\n",
    "        if not os.path.isfile(input_path):\n",
    "                print(\"File tidak ditemukan. Silakan masukkan path yang valid.\")\n",
    "                return\n",
    "        cap = cv2.VideoCapture(input_path)\n",
    "        detection(cap)\n",
    "        cap.release()\n",
    "        cv2.destroyAllWindows()"
   ]
  },
  {
   "cell_type": "code",
   "execution_count": 6,
   "metadata": {},
   "outputs": [
    {
     "name": "stdout",
     "output_type": "stream",
     "text": [
      "Captured person with ID: 0 and saved as Hasil/captured_person_0.png\n",
      "Captured person with ID: 1 and saved as Hasil/captured_person_1.png\n",
      "Captured person with ID: 2 and saved as Hasil/captured_person_2.png\n",
      "Captured person with ID: 3 and saved as Hasil/captured_person_3.png\n"
     ]
    }
   ],
   "source": [
    "main()"
   ]
  }
 ],
 "metadata": {
  "kernelspec": {
   "display_name": ".venv",
   "language": "python",
   "name": "python3"
  },
  "language_info": {
   "codemirror_mode": {
    "name": "ipython",
    "version": 3
   },
   "file_extension": ".py",
   "mimetype": "text/x-python",
   "name": "python",
   "nbconvert_exporter": "python",
   "pygments_lexer": "ipython3",
   "version": "3.10.7"
  }
 },
 "nbformat": 4,
 "nbformat_minor": 2
}
